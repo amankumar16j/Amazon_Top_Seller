{
 "cells": [
  {
   "cell_type": "code",
   "execution_count": 34,
   "id": "03403a99",
   "metadata": {},
   "outputs": [],
   "source": [
    "import pandas as pd\n",
    "import requests"
   ]
  },
  {
   "cell_type": "code",
   "execution_count": null,
   "id": "b3ec1e89",
   "metadata": {},
   "outputs": [],
   "source": [
    "# List of departments\n",
    "departments = [\n",
    "    \"Amazon Devices & Accessories\", \"Amazon Renewed\", \"Appliances\", \"Apps & Games\",\n",
    "    \"Arts, Crafts & Sewing\", \"Audible Books & Originals\", \"Automotive\", \"Baby\",\n",
    "    \"Beauty & Personal Care\", \"Books\", \"Camera & Photo Products\", \"CDs & Vinyl\",\n",
    "    \"Cell Phones & Accessories\", \"Clothing, Shoes & Jewelry\", \"Collectible Coins\",\n",
    "    \"Computers & Accessories\", \"Digital Educational Resources\", \"Digital Music\", \"Electronics\",\n",
    "    \"Entertainment Collectibles\", \"Gift Cards\", \"Grocery & Gourmet Food\", \"Handmade Products\",\n",
    "    \"Health & Household\", \"Home & Kitchen\", \"Industrial & Scientific\", \"Kindle Store\", \"Kitchen & Dining\",\n",
    "    \"Movies & TV\", \"Musical Instruments\", \"Office Products\", \"Patio, Lawn & Garden\", \"Pet Supplies\",\n",
    "    \"Software\", \"Sports & Outdoors\", \"Sports Collectibles\", \"Tools & Home Improvement\", \"Toys & Games\",\n",
    "    \"Unique Finds\", \"Video Games\"\n",
    "]"
   ]
  },
  {
   "cell_type": "code",
   "execution_count": null,
   "id": "47e14f3c",
   "metadata": {},
   "outputs": [],
   "source": [
    "# Initialize an empty list to store results\n",
    "best_sellers = []\n",
    "\n",
    "# Loop through each department and both pages (1 and 2)\n",
    "for department in departments:\n",
    "    for page in [1, 2]:\n",
    "        url = \"https://amazon-online-data-api.p.rapidapi.com/v2/best-sellers\"\n",
    "        querystring = {\"geo\": \"US\", \"page\": str(page), \"category\": department}\n",
    "        \n",
    "        headers = {\n",
    "            \"x-rapidapi-key\": \"081ed647a4mshe17a9e6d62cd9e0p124f9bjsn1dabfe6eee9e\",\n",
    "            \"x-rapidapi-host\": \"amazon-online-data-api.p.rapidapi.com\"\n",
    "        }\n",
    "\n",
    "        # Make the request to get the data\n",
    "        response = requests.get(url, headers=headers, params=querystring)\n",
    "        \n",
    "        # Check if the response is successful\n",
    "        if response.status_code == 200:\n",
    "            data = response.json()\n",
    "            \n",
    "            # Assuming the data is in the \"data\" field\n",
    "            if \"data\" in data:\n",
    "                # Convert the data to a DataFrame and add department and page info\n",
    "                page_data = pd.DataFrame(data[\"data\"])\n",
    "                page_data[\"department\"] = department\n",
    "                page_data[\"page\"] = page\n",
    "                \n",
    "                # Append the DataFrame to the list\n",
    "                best_sellers.append(page_data)\n",
    "        else:\n",
    "            print(f\"Failed to retrieve data for {department} (Page {page})\")"
   ]
  },
  {
   "cell_type": "code",
   "execution_count": null,
   "id": "14ff248f",
   "metadata": {},
   "outputs": [],
   "source": [
    "# Concatenate all DataFrames in the list into one DataFrame\n",
    "final_df = pd.concat(best_sellers, ignore_index=True)\n",
    "# Show the resulting DataFrame\n",
    "final_df.head()"
   ]
  }
 ],
 "metadata": {
  "kernelspec": {
   "display_name": "ML-KERNEL",
   "language": "python",
   "name": "ml-kernel"
  },
  "language_info": {
   "codemirror_mode": {
    "name": "ipython",
    "version": 3
   },
   "file_extension": ".py",
   "mimetype": "text/x-python",
   "name": "python",
   "nbconvert_exporter": "python",
   "pygments_lexer": "ipython3",
   "version": "3.11.7"
  }
 },
 "nbformat": 4,
 "nbformat_minor": 5
}
